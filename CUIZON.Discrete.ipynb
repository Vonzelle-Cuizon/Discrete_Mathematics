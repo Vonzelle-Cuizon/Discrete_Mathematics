{
 "cells": [
  {
   "cell_type": "code",
   "execution_count": null,
   "metadata": {},
   "outputs": [],
   "source": []
  },
  {
   "cell_type": "markdown",
   "metadata": {},
   "source": [
    "# ASSIGNMENTS 1"
   ]
  },
  {
   "cell_type": "markdown",
   "metadata": {},
   "source": []
  },
  {
   "cell_type": "markdown",
   "metadata": {},
   "source": [
    "## 1. Proving Identities"
   ]
  },
  {
   "cell_type": "markdown",
   "metadata": {},
   "source": [
    "# Given: A and B are sets, $\\exist x$ such that $(x \\in A \\land x \\in B)$\n"
   ]
  },
  {
   "cell_type": "markdown",
   "metadata": {},
   "source": [
    "1. Prove that: $(A \\setminus B = A \\cap B^c)$\n",
    "\n",
    "If $x \\in A \\land x \\in B$, then $x \\notin (A \\setminus B)$.\n",
    "\n",
    "If $x \\in A \\land x \\in B$, then $x \\notin B^c$, therefore $x \\notin (A \\cap B^c)$ \n",
    "\n",
    "If $x \\notin (A \\setminus B) \\land x \\notin (A \\cap B^c)$, then $(A \\setminus B) = (A \\cap B^c)$ \n"
   ]
  },
  {
   "cell_type": "markdown",
   "metadata": {},
   "source": [
    "2. Prove that: $B = (B \\cap A) \\cup (B \\cap A^c)$\n",
    "\n",
    "If $x \\in A \\land x \\in B$, then $x \\in (B \\cap A)$\n",
    "\n",
    "If $x \\in A \\land x \\in B$, then $x \\notin A^c$, therefore $x \\notin (B \\cap A^c)$\n",
    "\n",
    "If $x \\in (B \\cap A) \\land x \\notin (B \\cap A^c)$, then $x \\in (B \\cap A) \\cup (B \\cap A^c)$ still because $x \\in (B \\cap A)$.\n",
    "\n",
    "If $x \\in B \\land x \\in (B \\cap A) \\cup (B \\cap A^c)$, then $B = (B \\cap A) \\cup (B \\cap A^c)$ "
   ]
  },
  {
   "cell_type": "markdown",
   "metadata": {},
   "source": [
    "3. Prove that: $B \\setminus A = B \\cap A^c$\n",
    "\n",
    "If $x \\in A \\land x \\in B$, then $x \\notin (B \\setminus A)$.\n",
    "\n",
    "If $x \\in A \\land x \\in B$, then $x \\notin A^c$, therefore $x \\notin (B \\cap A^c)$ \n",
    "\n",
    "If $x \\notin (B \\setminus A) \\land x \\notin (B \\cap A^c)$, then $(B \\setminus A) = (B \\cap A^c)$ \n"
   ]
  },
  {
   "cell_type": "markdown",
   "metadata": {},
   "source": [
    "4. Prove that: $A \\cup B = A \\cup (B \\cap A^c)$\n",
    "\n",
    "If $x \\in A \\land x \\in B$, then $x \\in (A \\cup B)$\n",
    "\n",
    "If $x \\in A \\land x \\in B$, then $x \\notin A^c$, therefore $x \\notin (B \\cap A^c)$\n",
    "\n",
    "If $x \\in A \\land x \\notin (B \\cap A^c)$, then $x \\in A \\cup (B \\cap A^c)$ stil because $x \\in A$\n",
    "\n",
    "If $x \\in (A \\cup B) \\land x \\in A \\cup (B \\cap A^c)$, then $A \\cup B = A \\cup (B \\cap A^c)$"
   ]
  },
  {
   "cell_type": "markdown",
   "metadata": {},
   "source": [
    "5. Prove that:$(\\cup^\\infty_{i=1}A^c_i)^c$= $(\\cap^\\infty_{i=1}A_i)$\n",
    "\n",
    "If $x\\in A$, then $x\\notin A^c$, therefore $x \\notin (\\cup^\\infty_{i=1}A^c_i)$\n",
    "\n",
    "If $x \\notin (\\cup^\\infty_{i=1}A^c_i)$, then $x \\in (\\cup^\\infty_{i=1}A^c_i)^c$ using De Morgan's Law\n",
    "\n",
    "If $x \\in A$, then $x \\notin A^c$, therefore $x \\in (\\cap^\\infty_{i=1}A_i)$ using De Morgan's Law"
   ]
  },
  {
   "cell_type": "markdown",
   "metadata": {},
   "source": [
    "6. Prove that: $|A\\cup B| = |A| + |B| -|A\\cap B|$\n",
    "\n",
    "If $x \\in A \\land x \\in B$, then $x \\in (A \\cup B) \\land |A \\cup B| \\geq 1$\n",
    "\n",
    "If $x \\in A \\land x \\in B$, then $|A| \\geq 1 \\land |B| \\geq 1$, therefore $|A| + |B| \\geq 2$\n",
    "\n",
    "If $x \\in A \\land x \\in B$, then $x \\in (A \\cap B) \\land |A \\cap B| \\geq 1$\n",
    "\n",
    "If $|A| + |B| \\geq 2 \\land |A \\cap B| \\geq 1$, then $|A| + |B| -|A\\cap B| \\geq 1$\n",
    "\n",
    "If $|A \\cup B| \\geq 1 \\land |A| + |B| -|A\\cap B| \\geq 1$, then $|A\\cup B| = |A| + |B| -|A\\cap B|$"
   ]
  },
  {
   "cell_type": "markdown",
   "metadata": {},
   "source": [
    "## 2. Sets and Subsets"
   ]
  },
  {
   "cell_type": "markdown",
   "metadata": {},
   "source": [
    "\n",
    "\n",
    "1. If A = {2,3,4,5}, and B = {$x \\in \\N $| x is even}. Is A $\\subset$ B?.\n",
    "\n",
    "If B = {$x \\in \\N $| x is even}, then {3,5} $\\notin$ B\n",
    "\n",
    "If A = {2,3,4,5} $\\land$ B = {$x \\in \\N $| x is even}, then A $\\not\\subset$ B\n"
   ]
  },
  {
   "cell_type": "markdown",
   "metadata": {},
   "source": [
    "2. Let sets $\\textbf{A} = {x|x \\in \\mathbb{Z}, 0 \\leq x \\leq 9},$\n",
    "\n",
    "B = {2,4,6,8}\n",
    "\n",
    "C = {1,3,5,7,9}\n",
    "\n",
    "D = {3,4,5}\n",
    "\n",
    "Find a set which will satisfy the following conditions:\n",
    "\n",
    "1. x and B are disjoint\n",
    "2. x $\\subseteq$ D but x $\\not\\subseteq$ B\n",
    "3. x $\\subseteq$ A but x $\\not\\subset$ C"
   ]
  },
  {
   "cell_type": "markdown",
   "metadata": {},
   "source": [
    "1. x and B are disjoint if x = {0,1,3,5,7,9}\n",
    "\n",
    "$\\textbf{A} = {x|x \\in \\mathbb{Z}, 0 \\leq x \\leq 9},$ $\\setminus$ B = {2,4,6,8} = {0,1,2,3,4,5,6,7,8,9} - {2,4,6,8} = {0,1,3,5,7,9}\n",
    "\n",
    "2. x $\\subseteq$ D but x $\\not\\subseteq$ B if x = {3,5}\n",
    "\n",
    "D $\\setminus$ B = {3,4,5} - {2,4,6,8} = {3,5}\n",
    "\n",
    "3. $\\subseteq$ A but x $\\not\\subset$ C if x = {0,2,4,6,8}\n",
    "\n",
    "A $\\setminus$ C = {0,1,2,3,4,5,6,7,8,9} - {1,3,5,7,9} = {0,2,4,6,8}"
   ]
  },
  {
   "cell_type": "markdown",
   "metadata": {},
   "source": [
    "## 3. Set Operations"
   ]
  },
  {
   "cell_type": "markdown",
   "metadata": {},
   "source": [
    "Given:\n",
    "\n",
    "U = {1,2,3,4,5}\n",
    "\n",
    "A = {1,2,3,4,5}\n",
    "\n",
    "B = {4,5,6,7}\n",
    "\n",
    "C = {5,6,7,8,9}\n",
    "\n",
    "D = {1,3,5,7,9}\n",
    "\n",
    "E = {2,4,6,8}\n",
    "\n",
    "F = {1,5,9}\n",
    "\n",
    "1. $C \\oplus D$\n",
    "\n",
    "$(C \\cup D) \\setminus (C \\cap D)$ = {1,3,5,6,7,8,9} - {5,7,9} = {1,3,6,8}\n",
    "\n",
    "2. A $\\setminus$ B\n",
    "\n",
    "$A \\setminus (A \\cap B)$ = {1,2,3,4,5} - {4,5} = {1,2,3}\n",
    "\n",
    "3. B $\\setminus$ B\n",
    "\n",
    "$B \\setminus (B \\cap A)$ = {4,5,6,7} - {4,5} = {6,7}\n",
    "\n",
    "4. $E \\oplus F$\n",
    "\n",
    "$(E \\cup F) \\setminus (E \\cap F)$ = {1,2,4,5,6,8,9} - {} = {1,2,4,5,6,8,9}\n"
   ]
  },
  {
   "cell_type": "markdown",
   "metadata": {},
   "source": []
  },
  {
   "cell_type": "code",
   "execution_count": 1,
   "metadata": {},
   "outputs": [
    {
     "name": "stdout",
     "output_type": "stream",
     "text": [
      "𝐂⊕𝐃 = {1, 3, 6, 8}\n",
      "𝐀∖𝐁 = {1, 2, 3}\n",
      "𝐁∖𝐀 = {6, 7}\n",
      "𝐄⊕𝐅 = {1, 2, 4, 5, 6, 8, 9}\n"
     ]
    }
   ],
   "source": [
    "U = {1,2,3,4,5}\n",
    "\n",
    "A = {1,2,3,4,5}\n",
    "\n",
    "B = {4,5,6,7}\n",
    "\n",
    "C = {5,6,7,8,9}\n",
    "\n",
    "D = {1,3,5,7,9}\n",
    "\n",
    "E = {2,4,6,8}\n",
    "\n",
    "F = {1,5,9}\n",
    "\n",
    "print(f\"𝐂⊕𝐃 = {C ^ D}\")\n",
    "print(f\"𝐀∖𝐁 = {A - B}\")\n",
    "print(f\"𝐁∖𝐀 = {B - A}\")\n",
    "print(f\"𝐄⊕𝐅 = {E ^ F}\")"
   ]
  },
  {
   "cell_type": "markdown",
   "metadata": {},
   "source": [
    "## 4. Finite Sets and The Counting Principles"
   ]
  },
  {
   "cell_type": "markdown",
   "metadata": {},
   "source": [
    "In a 120 people survey, it was found that:\n",
    "\n",
    "65 read Newsweek Magazine\n",
    "\n",
    "45 read Times Magazine\n",
    "\n",
    "42 read Fortune Magazine\n",
    "\n",
    "20 read Both Newsweek and Time\n",
    "\n",
    "25 read both Newsweek and Fortune\n",
    "\n",
    "15 read both Time and Fortune\n",
    "\n",
    "8 read all three magazines\n",
    "\n",
    "Do the following:\n",
    "\n",
    "1. Draw the venn diagram using python.\n",
    "2. Find the number of people who read at \"least one\" of the three magazines.\n",
    "3. Find the number of people who read exactly one magazine.\n",
    "\n"
   ]
  },
  {
   "cell_type": "code",
   "execution_count": 5,
   "metadata": {},
   "outputs": [
    {
     "data": {
      "image/png": "[encoded data removed]",
      "text/plain": [
       "<Figure size 640x480 with 1 Axes>"
      ]
     },
     "metadata": {},
     "output_type": "display_data"
    },
    {
     "name": "stdout",
     "output_type": "stream",
     "text": [
      "Number of people who read at 'least one' of the three magazines: 100\n",
      "Number of people who read exactly one magazine: 56\n"
     ]
    }
   ],
   "source": [
    "import matplotlib.pyplot as plt\n",
    "from matplotlib_venn import venn3\n",
    "\n",
    "total = 120\n",
    "n = 65\n",
    "t = 45\n",
    "f = 42\n",
    "nt = 20\n",
    "nf = 25\n",
    "tf = 15\n",
    "ntf = 8\n",
    "\n",
    "\n",
    "venn = venn3(subsets=(\n",
    "    n - nt - nf + ntf,\n",
    "    t - nt - tf + ntf,\n",
    "    nt- ntf,\n",
    "    f - nf - tf + ntf,\n",
    "    nf - ntf,\n",
    "    tf - ntf,\n",
    "    ntf\n",
    "), set_labels=('Newsweek', 'Times', 'Fortune'))\n",
    "\n",
    "\n",
    "plt.title(\"Newsweek, Times, and Fortune Magazines Readers\")\n",
    "plt.show()\n",
    "\n",
    "\n",
    "at_least_one = (\n",
    "    (n + t + f) - (nt + nf + tf) + ntf\n",
    ")\n",
    "\n",
    "exactly_one = (\n",
    "    (n - nt - nf + ntf) + (t - nt - tf + ntf) + (f - nf - tf + ntf)\n",
    ")\n",
    "\n",
    "print(\"Number of people who read at 'least one' of the three magazines:\", at_least_one)\n",
    "\n",
    "print(\"Number of people who read exactly one magazine:\", exactly_one)"
   ]
  },
  {
   "cell_type": "markdown",
   "metadata": {},
   "source": [
    "In a survey of 25 new cars being sold at a local auto dealer was conducted to see which of the three popular options: air-conditioning, denoted as A; radio, denoted as R; and power windows, denoted as W were installed. The survey found that: - 15 had A. HINT: The condition said \"had an A\" AND NOT \"had an A only\" - 12 had R. HINT: The condition said \"had a R\" AND NOT \"had a R only\"- 11 had W. HINT: The condition said \"had a W\" AND NOT \"had a W only - 5 had A and W. - 9 had A and R. - 4 had R and W. - Only 3 have the three options. With these information do the following:\n",
    "1. Draw the venn diagram using python.\n",
    "2. Find the number of cars with W only.\n",
    "3. Find the number of cars with A only.\n",
    "4. Find the number of cars with R only.\n",
    "5. Find the number of cars with both R and W but not A.\n",
    "6. Find the number of cars with both A and R but not W.\n",
    "7. Find the number of cars with only one of the options.\n",
    "8. Find the number of cars with at least one option.\n",
    "9. Find the number of cars with none of the Options."
   ]
  },
  {
   "cell_type": "code",
   "execution_count": 1,
   "metadata": {},
   "outputs": [
    {
     "data": {
      "image/png": "[encoded data removed]",
      "text/plain": [
       "<Figure size 640x480 with 1 Axes>"
      ]
     },
     "metadata": {},
     "output_type": "display_data"
    },
    {
     "name": "stdout",
     "output_type": "stream",
     "text": [
      "Number of cars with W only: 5\n",
      "Number of cars with A only: 4\n",
      "Number of cars with R only: 2\n",
      "Number of cars with both R and W but not A: 1\n",
      "Number of cars with both A and R but not W: 6\n",
      "Number of cars with only one of the options: 11\n",
      "Number of cars with at least one option: 23\n",
      "Number of cars with none of the options: 2\n"
     ]
    }
   ],
   "source": [
    "import matplotlib.pyplot as plt\n",
    "from matplotlib_venn import venn3\n",
    "\n",
    "\n",
    "A = 15\n",
    "R = 12\n",
    "W = 11\n",
    "AW = 5\n",
    "AR = 9\n",
    "RW = 4\n",
    "ARW = 3\n",
    "total = 25\n",
    "\n",
    "\n",
    "venn = venn3(subsets=(\n",
    "    A - AR - AW + ARW,\n",
    "    R - AR - RW + ARW,\n",
    "    AR - ARW,\n",
    "    W - AW - RW + ARW,\n",
    "    AW - ARW,\n",
    "    RW - ARW,\n",
    "    ARW\n",
    "), set_labels=('A', 'R', 'W'))\n",
    "\n",
    "plt.title(\"Car Options A,R, and W\")\n",
    "plt.show()\n",
    "\n",
    "\n",
    "only_one = (\n",
    "    (A - AR - AW + ARW) + (R - AR - RW + ARW) + (W - AW - RW + ARW)  \n",
    ")\n",
    "\n",
    "atleast_one = (\n",
    "    \n",
    "    (A + R + W) - ( AW + AR + RW ) + ARW\n",
    ")\n",
    "\n",
    "\n",
    "none = total - atleast_one\n",
    "\n",
    "print(\"Number of cars with W only:\", W - RW - AW + ARW)\n",
    "print(\"Number of cars with A only:\", A - AR - AW + ARW)\n",
    "print(\"Number of cars with R only:\", R - AR - RW + ARW)\n",
    "print(\"Number of cars with both R and W but not A:\", RW - ARW)\n",
    "print(\"Number of cars with both A and R but not W:\", AR - ARW)\n",
    "print(\"Number of cars with only one of the options:\", only_one)\n",
    "print(\"Number of cars with at least one option:\", atleast_one)\n",
    "print(\"Number of cars with none of the options:\", none)"
   ]
  },
  {
   "cell_type": "code",
   "execution_count": null,
   "metadata": {},
   "outputs": [],
   "source": []
  }
 ],
 "metadata": {
  "kernelspec": {
   "display_name": "Python 3",
   "language": "python",
   "name": "python3"
  },
  "language_info": {
   "codemirror_mode": {
    "name": "ipython",
    "version": 3
   },
   "file_extension": ".py",
   "mimetype": "text/x-python",
   "name": "python",
   "nbconvert_exporter": "python",
   "pygments_lexer": "ipython3",
   "version": "3.11.5"
  },
  "orig_nbformat": 4
 },
 "nbformat": 4,
 "nbformat_minor": 2
}
